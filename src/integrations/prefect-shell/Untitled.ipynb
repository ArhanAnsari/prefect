{
 "cells": [
  {
   "cell_type": "code",
   "execution_count": 5,
   "id": "f248c45f-4764-4d7c-ae52-f2daa68d1c72",
   "metadata": {},
   "outputs": [
    {
     "data": {
      "text/plain": [
       "<SMTPServer.GMAIL: 'smtp.gmail.com'>"
      ]
     },
     "execution_count": 5,
     "metadata": {},
     "output_type": "execute_result"
    }
   ],
   "source": [
    "from enum import Enum\n",
    "\n",
    "\n",
    "class SMTPType(Enum):\n",
    "    \"\"\"\n",
    "    Protocols used to secure email transmissions.\n",
    "    \"\"\"\n",
    "\n",
    "    SSL = 465\n",
    "    STARTTLS = 587\n",
    "    INSECURE = 25\n",
    "\n",
    "\n",
    "class SMTPServer(Enum):\n",
    "    \"\"\"\n",
    "    Server used to send email.\n",
    "    \"\"\"\n",
    "\n",
    "    AOL = \"smtp.aol.com\"\n",
    "    ATT = \"smtp.mail.att.net\"\n",
    "    COMCAST = \"smtp.comcast.net\"\n",
    "    ICLOUD = \"smtp.mail.me.com\"\n",
    "    GMAIL = \"smtp.gmail.com\"\n",
    "    OUTLOOK = \"smtp-mail.outlook.com\"\n",
    "    YAHOO = \"smtp.mail.yahoo.com\"\n",
    "\n",
    "    @classmethod\n",
    "    def _missing_(cls, value):\n",
    "        return getattr(cls, value.upper())\n",
    "\n",
    "\n",
    "SMTPServer('gmail')\n"
   ]
  }
 ],
 "metadata": {
  "kernelspec": {
   "display_name": "Python 3 (ipykernel)",
   "language": "python",
   "name": "python3"
  },
  "language_info": {
   "codemirror_mode": {
    "name": "ipython",
    "version": 3
   },
   "file_extension": ".py",
   "mimetype": "text/x-python",
   "name": "python",
   "nbconvert_exporter": "python",
   "pygments_lexer": "ipython3",
   "version": "3.11.8"
  }
 },
 "nbformat": 4,
 "nbformat_minor": 5
}
